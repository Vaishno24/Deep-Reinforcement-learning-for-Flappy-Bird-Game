{
 "cells": [
  {
   "cell_type": "code",
   "execution_count": 3,
   "id": "d55f16b6",
   "metadata": {},
   "outputs": [
    {
     "name": "stdout",
     "output_type": "stream",
     "text": [
      "importing Jupyter notebook from flappy_dqn.ipynb\n",
      "pygame 2.1.2 (SDL 2.0.18, Python 3.9.13)\n",
      "Hello from the pygame community. https://www.pygame.org/contribute.html\n"
     ]
    }
   ],
   "source": [
    "import import_ipynb\n",
    "import flappy_dqn\n",
    "import os\n",
    "import sys\n",
    "import random\n",
    "import numpy as np\n",
    "from collections import deque\n",
    "\n",
    "import tensorflow\n",
    "from keras.models import Sequential\n",
    "from keras.layers.convolutional import Conv2D\n",
    "from keras.layers.core import Dense, Activation, Flatten\n",
    "from keras.optimizers import Adam\n",
    "\n",
    "import skimage as skimage\n",
    "from skimage import transform, color, exposure\n",
    "from skimage.transform import rotate"
   ]
  },
  {
   "cell_type": "code",
   "execution_count": 4,
   "id": "08e4c515",
   "metadata": {},
   "outputs": [],
   "source": [
    "num_actions = 2 # number of valid actions\n",
    "discount = 0.99 # decay rate of past observations\n",
    "observe = 3200 # timesteps to observe before training\n",
    "explore = 3000000 # frames over which to anneal epsilon\n",
    "FINAL_EPSILON = 0.0001 # final value of epsilon\n",
    "INITIAL_EPSILON = 0.1 # starting value of epsilon\n",
    "replay_memory = 50000 # number of previous transitions to remember"
   ]
  },
  {
   "cell_type": "code",
   "execution_count": 5,
   "id": "f2bca403",
   "metadata": {},
   "outputs": [],
   "source": [
    "def build_network():\n",
    "\n",
    "\tprint (\"Initializing model ....\")\n",
    "\tmodel = Sequential()\n",
    "\tmodel.add(Conv2D(32, (8, 8), padding='same', strides=(4, 4), input_shape=(80,80,4)))\n",
    "\tmodel.add(Activation('relu'))\n",
    "\tmodel.add(Conv2D(64, (4, 4), padding='same', strides=(2, 2)))\n",
    "\tmodel.add(Activation('relu'))\n",
    "\tmodel.add(Conv2D(64, (3, 3), padding='same', strides=(1, 1)))\n",
    "\tmodel.add(Activation('relu'))\n",
    "\tmodel.add(Flatten())\n",
    "\tmodel.add(Dense(512))\n",
    "\tmodel.add(Activation('relu'))\n",
    "\tmodel.add(Dense(num_actions))\n",
    "\n",
    "\tif os.path.exists(\"dqn.h5\"):\n",
    "\t\tprint (\"Loading weights from dqn.h5 .....\")\n",
    "\t\tmodel.load_weights(\"dqn.h5\")\n",
    "\t\tprint (\"Weights loaded successfully.\")\n",
    "\tadam = Adam(lr=1e-4)\n",
    "\tmodel.compile(loss='mse',optimizer=adam)\n",
    "\tprint (\"Finished building model.\")\n",
    "\n",
    "\treturn model"
   ]
  },
  {
   "cell_type": "code",
   "execution_count": 6,
   "id": "0c60b28c",
   "metadata": {},
   "outputs": [],
   "source": [
    "def process(input):\n",
    "\t# convert the input from rgb to grey\n",
    "\timage = skimage.color.rgb2gray(input)\n",
    "\t# resize image to 80x80 from 288x404\n",
    "\timage = skimage.transform.resize(image,(80,80), mode='constant')\n",
    "\t# return image after stretching or shrinking its intensity levels\n",
    "\timage = skimage.exposure.rescale_intensity(image,out_range=(0,255))\n",
    "\t# scale down pixels values to (0,1)\n",
    "\timage = image / 255.0\n",
    "\treturn "
   ]
  },
  {
   "cell_type": "code",
   "execution_count": 8,
   "id": "2fe0e241",
   "metadata": {},
   "outputs": [],
   "source": [
    "def train_network(model,mode):\n",
    "    if mode == 'Run':\n",
    "    \ttrain = False\n",
    "    elif mode == 'Train':\n",
    "    \ttrain = True\n",
    "\n",
    "    if train:\n",
    "    \tepsilon = INITIAL_EPSILON\n",
    "    else:\n",
    "    \tepsilon = FINAL_EPSILON\n",
    "\n",
    "    sfile = open(\"scores_dqn.txt\",\"a+\")\n",
    "    episode = 1\n",
    "    timestep = 0\n",
    "    loss = 0\n",
    "    # initialize an instance of game\n",
    "    game = State()\n",
    "    # store the previous observations in replay memory\n",
    "    replay = deque()\n",
    "    # take action 0 and get resultant state\n",
    "    image, score, reward, alive = game.next(0)\n",
    "    # preprocess the image and stack to 80x80x4 pixels\n",
    "    image = process(image)\n",
    "    input_image = np.stack((image, image, image, image), axis=2)\n",
    "    input_image = input_image.reshape(1, input_image.shape[0], input_image.shape[1], input_image.shape[2])\n",
    "    \n",
    "    while (True):\n",
    "        # get an action epsilon greedy policy\n",
    "        if random.random() <= epsilon:\n",
    "            action = random.randrange(num_actions)\n",
    "        else:\n",
    "            q = model.predict(input_image)       \n",
    "            action = np.argmax(q)\n",
    "        # decay epsilon linearly\n",
    "        if epsilon > FINAL_EPSILON and timestep > observe:\n",
    "            epsilon -= (INITIAL_EPSILON - FINAL_EPSILON) / explore\n",
    "        # take selected action and get resultant state\n",
    "        image1, score, reward, alive = game.next(action)\n",
    "        # preprocess the image and stack to 80x80x4 pixels\n",
    "        image1 = process(image1)\n",
    "        image1 = image1.reshape(1, image1.shape[0], image1.shape[1], 1) #1x80x80x1\n",
    "        input_image1 = np.append(image1, input_image[:, :, :, :3], axis=3)\n",
    "\n",
    "        if train:\n",
    "        \t# add current transition to replay buffer\n",
    "\t        replay.append((input_image, action, reward, input_image1, alive))\n",
    "\t        if len(replay) > replay_memory:\n",
    "\t            replay.popleft()\n",
    "\n",
    "\t        if timestep > observe:\n",
    "\t            # sample a minibatch of size 32 from replay memory\n",
    "\t            minibatch = random.sample(replay, 32)\n",
    "\t            s, a, r, s1, alive = zip(*minibatch)\n",
    "\t            s = np.concatenate(s)\n",
    "\t            s1 = np.concatenate(s1)\n",
    "\t            targets = model.predict(s)\n",
    "\t            targets[range(32), a] = r + discount*np.max(model.predict(s1), axis=1)*alive\n",
    "\t            loss += model.train_on_batch(s, targets)\n",
    "\n",
    "        input_image = input_image1\n",
    "        timestep = timestep + 1\n",
    "\n",
    "        if train:\n",
    "        \t# save the weights after every 1000 timesteps\n",
    "        \tif timestep % 1000 == 0:\n",
    "        \t\tmodel.save_weights(\"dqn.h5\", overwrite=True)\n",
    "        \tprint(\"TIMESTEP: \"+ str(timestep) + \", EPSILON: \" + str(epsilon) + \", ACTION: \" + str(action) + \", REWARD: \" + str(reward) + \", Loss: \" + str(loss))\n",
    "        \tloss = 0\n",
    "        elif not alive:\n",
    "        \tprint(\"EPISODE: \" + str(episode) + \", SCORE: \" + str(score))\n",
    "        \tsfile.write(str(score)+\"\\n\")\n",
    "        \tepisode += 1"
   ]
  },
  {
   "cell_type": "code",
   "execution_count": 9,
   "id": "42f06f8f",
   "metadata": {},
   "outputs": [
    {
     "name": "stdout",
     "output_type": "stream",
     "text": [
      "Initializing model ....\n"
     ]
    },
    {
     "name": "stderr",
     "output_type": "stream",
     "text": [
      "C:\\Users\\sriva\\anaconda3\\lib\\site-packages\\keras\\optimizers\\optimizer_v2\\adam.py:114: UserWarning: The `lr` argument is deprecated, use `learning_rate` instead.\n",
      "  super().__init__(name, **kwargs)\n"
     ]
    },
    {
     "name": "stdout",
     "output_type": "stream",
     "text": [
      "Finished building model.\n"
     ]
    },
    {
     "ename": "UnboundLocalError",
     "evalue": "local variable 'train' referenced before assignment",
     "output_type": "error",
     "traceback": [
      "\u001b[1;31m---------------------------------------------------------------------------\u001b[0m",
      "\u001b[1;31mUnboundLocalError\u001b[0m                         Traceback (most recent call last)",
      "\u001b[1;32m~\\AppData\\Local\\Temp\\ipykernel_4284\\4240493564.py\u001b[0m in \u001b[0;36m<module>\u001b[1;34m\u001b[0m\n\u001b[0;32m      1\u001b[0m \u001b[1;32mif\u001b[0m \u001b[0m__name__\u001b[0m \u001b[1;33m==\u001b[0m \u001b[1;34m\"__main__\"\u001b[0m\u001b[1;33m:\u001b[0m\u001b[1;33m\u001b[0m\u001b[1;33m\u001b[0m\u001b[0m\n\u001b[0;32m      2\u001b[0m         \u001b[0mmodel\u001b[0m \u001b[1;33m=\u001b[0m \u001b[0mbuild_network\u001b[0m\u001b[1;33m(\u001b[0m\u001b[1;33m)\u001b[0m\u001b[1;33m\u001b[0m\u001b[1;33m\u001b[0m\u001b[0m\n\u001b[1;32m----> 3\u001b[1;33m         \u001b[0mtrain_network\u001b[0m\u001b[1;33m(\u001b[0m\u001b[0mmodel\u001b[0m\u001b[1;33m,\u001b[0m\u001b[0msys\u001b[0m\u001b[1;33m.\u001b[0m\u001b[0margv\u001b[0m\u001b[1;33m[\u001b[0m\u001b[1;36m1\u001b[0m\u001b[1;33m]\u001b[0m\u001b[1;33m)\u001b[0m\u001b[1;33m\u001b[0m\u001b[1;33m\u001b[0m\u001b[0m\n\u001b[0m",
      "\u001b[1;32m~\\AppData\\Local\\Temp\\ipykernel_4284\\4006315470.py\u001b[0m in \u001b[0;36mtrain_network\u001b[1;34m(model, mode)\u001b[0m\n\u001b[0;32m      5\u001b[0m         \u001b[0mtrain\u001b[0m \u001b[1;33m=\u001b[0m \u001b[1;32mTrue\u001b[0m\u001b[1;33m\u001b[0m\u001b[1;33m\u001b[0m\u001b[0m\n\u001b[0;32m      6\u001b[0m \u001b[1;33m\u001b[0m\u001b[0m\n\u001b[1;32m----> 7\u001b[1;33m     \u001b[1;32mif\u001b[0m \u001b[0mtrain\u001b[0m\u001b[1;33m:\u001b[0m\u001b[1;33m\u001b[0m\u001b[1;33m\u001b[0m\u001b[0m\n\u001b[0m\u001b[0;32m      8\u001b[0m         \u001b[0mepsilon\u001b[0m \u001b[1;33m=\u001b[0m \u001b[0mINITIAL_EPSILON\u001b[0m\u001b[1;33m\u001b[0m\u001b[1;33m\u001b[0m\u001b[0m\n\u001b[0;32m      9\u001b[0m     \u001b[1;32melse\u001b[0m\u001b[1;33m:\u001b[0m\u001b[1;33m\u001b[0m\u001b[1;33m\u001b[0m\u001b[0m\n",
      "\u001b[1;31mUnboundLocalError\u001b[0m: local variable 'train' referenced before assignment"
     ]
    }
   ],
   "source": [
    "if __name__ == \"__main__\":\n",
    "\tmodel = build_network()\n",
    "\ttrain_network(model,sys.argv[1])"
   ]
  },
  {
   "cell_type": "code",
   "execution_count": null,
   "id": "48e3c4e3",
   "metadata": {},
   "outputs": [],
   "source": []
  }
 ],
 "metadata": {
  "kernelspec": {
   "display_name": "Python 3 (ipykernel)",
   "language": "python",
   "name": "python3"
  },
  "language_info": {
   "codemirror_mode": {
    "name": "ipython",
    "version": 3
   },
   "file_extension": ".py",
   "mimetype": "text/x-python",
   "name": "python",
   "nbconvert_exporter": "python",
   "pygments_lexer": "ipython3",
   "version": "3.9.13"
  }
 },
 "nbformat": 4,
 "nbformat_minor": 5
}
